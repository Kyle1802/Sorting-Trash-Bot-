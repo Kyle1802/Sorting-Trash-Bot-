{
 "cells": [
  {
   "cell_type": "code",
   "execution_count": 2,
   "id": "d8348676",
   "metadata": {},
   "outputs": [
    {
     "name": "stdout",
     "output_type": "stream",
     "text": [
      "Detected color: black\n"
     ]
    }
   ],
   "source": [
    "import cv2\n",
    "import numpy as np\n",
    "import serial\n",
    "import time\n",
    "\n",
    "color_bounds = {\n",
    "    \"yellow\": ([20, 100, 100], [30, 255, 255]),\n",
    "    \"black\": ([0, 0, 0], [180, 255, 30]),\n",
    "    \"blue\": ([100, 100, 0], [140, 255, 255]),\n",
    "    \"red\": ([0, 100, 100], [10, 255, 255])\n",
    "}\n",
    "\n",
    "def detect_color(frame):\n",
    "    hsv_frame = cv2.cvtColor(frame, cv2.COLOR_BGR2HSV)\n",
    "    \n",
    "    for color, (lower, upper) in color_bounds.items():\n",
    "        lower = np.array(lower, dtype=np.uint8)\n",
    "        upper = np.array(upper, dtype=np.uint8)\n",
    "        mask = cv2.inRange(hsv_frame, lower, upper)\n",
    "\n",
    "        kernel = cv2.getStructuringElement(cv2.MORPH_RECT, (5, 5))\n",
    "        mask = cv2.morphologyEx(mask, cv2.MORPH_OPEN, kernel, iterations=2)\n",
    "\n",
    "        contours, _ = cv2.findContours(mask, cv2.RETR_EXTERNAL, cv2.CHAIN_APPROX_SIMPLE)\n",
    "\n",
    "        for contour in contours:\n",
    "            area = cv2.contourArea(contour)\n",
    "            x, y, w, h = cv2.boundingRect(contour)\n",
    "            aspect_ratio = w / float(h)\n",
    "\n",
    "            if area > 200 and 0.8 <= aspect_ratio <= 1.2:\n",
    "                return color\n",
    "\n",
    "    return None\n",
    "\n",
    "def send_signal_to_arduino(position):\n",
    "    ser = serial.Serial('COM11', 9600)\n",
    "    time.sleep(2)\n",
    "\n",
    "    ser.write(str(position).encode())\n",
    "\n",
    "    time.sleep(2)\n",
    "\n",
    "    ser.close()\n",
    "\n",
    "def main():\n",
    "    cap = cv2.VideoCapture(1)\n",
    "\n",
    "    while True:\n",
    "        ret, frame = cap.read()\n",
    "        if not ret:\n",
    "            break\n",
    "\n",
    "        color = detect_color(frame)\n",
    "\n",
    "        cv2.imshow('Frame', frame)\n",
    "\n",
    "        if color:\n",
    "            print(f\"Detected color: {color}\")\n",
    "            position = None\n",
    "            if color == \"yellow\":\n",
    "                position = 1\n",
    "            elif color == \"black\":\n",
    "                position = 2\n",
    "            elif color == \"blue\":\n",
    "                position = 3\n",
    "            elif color == \"red\":\n",
    "                position = 4\n",
    "\n",
    "            if position is not None:\n",
    "                send_signal_to_arduino(position)\n",
    "                break\n",
    "\n",
    "        if cv2.waitKey(1) & 0xFF == ord('q'):\n",
    "            break\n",
    "\n",
    "    cap.release()\n",
    "    cv2.destroyAllWindows()\n",
    "\n",
    "if __name__ == '__main__':\n",
    "    main()\n"
   ]
  },
  {
   "cell_type": "code",
   "execution_count": null,
   "id": "20362aaa",
   "metadata": {},
   "outputs": [],
   "source": []
  },
  {
   "cell_type": "code",
   "execution_count": null,
   "id": "1ddd731b",
   "metadata": {},
   "outputs": [],
   "source": []
  }
 ],
 "metadata": {
  "kernelspec": {
   "display_name": "Python 3 (ipykernel)",
   "language": "python",
   "name": "python3"
  },
  "language_info": {
   "codemirror_mode": {
    "name": "ipython",
    "version": 3
   },
   "file_extension": ".py",
   "mimetype": "text/x-python",
   "name": "python",
   "nbconvert_exporter": "python",
   "pygments_lexer": "ipython3",
   "version": "3.10.9"
  }
 },
 "nbformat": 4,
 "nbformat_minor": 5
}
